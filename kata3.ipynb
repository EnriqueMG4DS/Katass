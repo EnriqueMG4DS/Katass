{
 "cells": [
  {
   "cell_type": "markdown",
   "metadata": {},
   "source": [
    "## Alerta asteroide si este es mayor a 25km/h "
   ]
  },
  {
   "cell_type": "code",
   "execution_count": 1,
   "metadata": {},
   "outputs": [
    {
     "name": "stdout",
     "output_type": "stream",
     "text": [
      "Alertra de asteroide\n"
     ]
    }
   ],
   "source": [
    "asteroide=49\n",
    "\n",
    "if asteroide > 25:\n",
    "    print(\"Alertra de asteroide\")\n",
    "else: print(\"Sin peligro\")\n"
   ]
  },
  {
   "cell_type": "markdown",
   "metadata": {},
   "source": [
    "## Alerta de asteroide con luz"
   ]
  },
  {
   "cell_type": "code",
   "execution_count": 6,
   "metadata": {},
   "outputs": [
    {
     "name": "stdout",
     "output_type": "stream",
     "text": [
      "NADA POR AHORA\n"
     ]
    }
   ],
   "source": [
    "asteroide= 19\n",
    "if asteroide > 20:\n",
    "    print(\"MIRA ARRIBA!!\")\n",
    "elif asteroide == 20:\n",
    "    print(\"MIRA ARRIBA!\")\n",
    "else: print(\"NADA POR AHORA\")"
   ]
  },
  {
   "cell_type": "markdown",
   "metadata": {},
   "source": [
    "## Proigrama que manda alertas si el asteroide es peligroso\n",
    "* si el asteroide es mayor a 25 metros golpeara a la tierra y causara un daño\n",
    "* caulquier velocidad mayor a 25km/s merece una advertencia \n",
    "* si el asteroide entra a la atmosfera a una velocidad de 20km/s este podria lanzar un rayo de luz"
   ]
  },
  {
   "cell_type": "code",
   "execution_count": 9,
   "metadata": {},
   "outputs": [
    {
     "name": "stdout",
     "output_type": "stream",
     "text": [
      "¡Alerta, Un asteroide muy peligroso viene hacia la Tierra!\n"
     ]
    }
   ],
   "source": [
    "Ve_Asteroide = 26\n",
    "Ta_Asteroide = 30\n",
    "if Ve_Asteroide > 25 and Ta_Asteroide > 25:\n",
    "    print('¡Alerta, Un asteroide muy peligroso viene hacia la Tierra!')\n",
    "elif Ve_Asteroide >= 20:\n",
    "    print('Mira arriba ¡Hay una luz mágica en el cielo!')\n",
    "elif Ta_Asteroide < 25:\n",
    "    print('Nada por ahora')\n",
    "else:\n",
    "    print('Nada por ahora ')"
   ]
  }
 ],
 "metadata": {
  "interpreter": {
   "hash": "dcacb0086e9a4f4eabd41c33bf4faac5ea0a3337ed3f5eff0680afa930572c04"
  },
  "kernelspec": {
   "display_name": "Python 3.9.6 64-bit",
   "language": "python",
   "name": "python3"
  },
  "language_info": {
   "codemirror_mode": {
    "name": "ipython",
    "version": 3
   },
   "file_extension": ".py",
   "mimetype": "text/x-python",
   "name": "python",
   "nbconvert_exporter": "python",
   "pygments_lexer": "ipython3",
   "version": "3.9.6"
  },
  "orig_nbformat": 4
 },
 "nbformat": 4,
 "nbformat_minor": 2
}
