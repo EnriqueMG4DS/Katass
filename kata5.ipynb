{
 "cells": [
  {
   "cell_type": "markdown",
   "metadata": {},
   "source": [
    "## CALCULA LA DISTANCIA ENTRE DOS PLANETAS"
   ]
  },
  {
   "cell_type": "code",
   "execution_count": 11,
   "metadata": {},
   "outputs": [
    {
     "name": "stdout",
     "output_type": "stream",
     "text": [
      "628949330\n",
      "390577534\n"
     ]
    }
   ],
   "source": [
    "TIERRA = 149597870\n",
    "JUPITER = 778547200\n",
    "DiEnLosD= JUPITER - TIERRA\n",
    "print(DiEnLosD)\n",
    "print(round( DiEnLosD * 0.621))"
   ]
  },
  {
   "cell_type": "markdown",
   "metadata": {},
   "source": [
    "## EJERCICIO 2"
   ]
  },
  {
   "cell_type": "code",
   "execution_count": 14,
   "metadata": {},
   "outputs": [],
   "source": [
    "Planeta1= input(\"Ingresa la distancia entre el primer planeta y el sol en km\")\n",
    "Planeta2= input(\"Ingresa la distancia entre el segundo planeta y el sol en km\")\n",
    "Planeta1= int(Planeta1)\n",
    "Planeta2= int(Planeta2)"
   ]
  },
  {
   "cell_type": "code",
   "execution_count": 15,
   "metadata": {},
   "outputs": [
    {
     "name": "stdout",
     "output_type": "stream",
     "text": [
      "-654108109\n",
      "-406201136\n"
     ]
    }
   ],
   "source": [
    "Distancia= Planeta2 - Planeta1\n",
    "print(Distancia)\n",
    "\n",
    "Distanciam= round(Distancia * 0.621)\n",
    "print(Distanciam)"
   ]
  }
 ],
 "metadata": {
  "interpreter": {
   "hash": "dcacb0086e9a4f4eabd41c33bf4faac5ea0a3337ed3f5eff0680afa930572c04"
  },
  "kernelspec": {
   "display_name": "Python 3.9.6 64-bit",
   "language": "python",
   "name": "python3"
  },
  "language_info": {
   "codemirror_mode": {
    "name": "ipython",
    "version": 3
   },
   "file_extension": ".py",
   "mimetype": "text/x-python",
   "name": "python",
   "nbconvert_exporter": "python",
   "pygments_lexer": "ipython3",
   "version": "3.9.6"
  },
  "orig_nbformat": 4
 },
 "nbformat": 4,
 "nbformat_minor": 2
}
